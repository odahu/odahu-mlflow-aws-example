{
 "cells": [
  {
   "cell_type": "markdown",
   "metadata": {},
   "source": [
    "### Import ml_model folder as a package and import train script from it "
   ]
  },
  {
   "cell_type": "code",
   "execution_count": 7,
   "metadata": {},
   "outputs": [],
   "source": [
    "import os\n",
    "import sys\n",
    "module_path = os.path.abspath(os.path.join('..'))\n",
    "if module_path not in sys.path:\n",
    "    sys.path.append(module_path)"
   ]
  },
  {
   "cell_type": "code",
   "execution_count": 2,
   "metadata": {},
   "outputs": [],
   "source": [
    "from ml_training import train"
   ]
  },
  {
   "cell_type": "markdown",
   "metadata": {},
   "source": [
    "## Load data"
   ]
  },
  {
   "cell_type": "code",
   "execution_count": 3,
   "metadata": {},
   "outputs": [],
   "source": [
    "import pandas as pd\n",
    "import numpy as np\n",
    "import matplotlib.pyplot as plt\n",
    "from sklearn.preprocessing import OneHotEncoder"
   ]
  },
  {
   "cell_type": "code",
   "execution_count": 4,
   "metadata": {},
   "outputs": [],
   "source": [
    "# Read the wine-quality csv file\n",
    "data = pd.read_csv(train.DATASET)"
   ]
  },
  {
   "cell_type": "markdown",
   "metadata": {},
   "source": [
    "## Run training"
   ]
  },
  {
   "cell_type": "code",
   "execution_count": 9,
   "metadata": {},
   "outputs": [
    {
     "name": "stdout",
     "output_type": "stream",
     "text": [
      "Elasticnet model (alpha=0.3, l1_ratio=0.5):\n",
      "  RMSE: 0.8180482314819962\n",
      "  MAE: 0.637743823768237\n",
      "  R2: 0.17476981233924171\n"
     ]
    },
    {
     "name": "stderr",
     "output_type": "stream",
     "text": [
      "Registered model 'wine-quality-prediction' already exists. Creating a new version of this model...\n",
      "2021/08/27 10:21:34 INFO mlflow.tracking._model_registry.client: Waiting up to 300 seconds for model version to finish creation.                     Model name: wine-quality-prediction, version 6\n",
      "Created version '6' of model 'wine-quality-prediction'.\n"
     ]
    }
   ],
   "source": [
    "\n",
    "# Split the data into training and test sets. (0.75, 0.25) split.\n",
    "train_data, test = train.train_test_split(data)\n",
    "\n",
    "# The predicted column is \"quality\" which is a scalar from [3, 9]\n",
    "\n",
    "# Train model, get MlFlow RUN\n",
    "train_run = train.train_model(\n",
    "    alpha=0.3,\n",
    "    l1_ratio=0.5,\n",
    "    train_x=train_data.drop([\"quality\"], axis=1),\n",
    "    train_y=train_data[[\"quality\"]],\n",
    "    test_x=test.drop([\"quality\"], axis=1),\n",
    "    test_y=test[[\"quality\"]]\n",
    ")"
   ]
  },
  {
   "cell_type": "code",
   "execution_count": 6,
   "metadata": {},
   "outputs": [
    {
     "name": "stdout",
     "output_type": "stream",
     "text": [
      "Quality of Wine A predicted as: 6.05694305139275\n",
      "Quality of Wine B predicted as: 5.835322956062144\n",
      "Exception has been raised for density = 1.2\n"
     ]
    }
   ],
   "source": [
    "# Testing logic for the model\n",
    "# create_test_handler builds a wrapper of the inference code\n",
    "# and this can be used to test how your inference code works with a model\n",
    "test_handler = train.create_test_handler(\n",
    "    run_id=train_run.info.run_id,\n",
    "    model_name=train.MODEL_PREDICTOR_NAME,\n",
    "    inference_code_location='../ml-service/'\n",
    ")\n",
    "\n",
    "# Wine A\n",
    "graphql_prediction = test_handler.query_graphl(\n",
    "    '''\n",
    "    query {\n",
    "        prediction(\n",
    "          fixedAcidity: 6.2, volatileAcidity: 0.32, \n",
    "          citricAcid: 0.35, residualSugar: 6.1, \n",
    "          chlorides: 0.04, freeSulfurDioxide: 50.0, \n",
    "          totalSulfurDioxide: 100.0, density: 0.98,\n",
    "          pH: 3.10, sulphates: 0.2, alcohol: 10.1\n",
    "        ) {\n",
    "            quality\n",
    "        }\n",
    "    }\n",
    "    '''\n",
    ")['prediction']['quality']\n",
    "print(f'Quality of Wine A predicted as: {graphql_prediction}')\n",
    "\n",
    "dict_prediction = test_handler.query(**{\n",
    "    'fixed acidity': 7.0,\n",
    "    'volatile acidity': 0.30,\n",
    "    'citric acid': 0.14,\n",
    "    'residual sugar': 1.2,\n",
    "    'chlorides': 0.02,\n",
    "    'free sulfur dioxide': 10.0,\n",
    "    'total sulfur dioxide': 120.0,\n",
    "    'density': 0.97,\n",
    "    'pH': 3.2,\n",
    "    'sulphates': 0.3,\n",
    "    'alcohol': 11.0\n",
    "})\n",
    "print(f'Quality of Wine B predicted as: {dict_prediction}')\n",
    "\n",
    "# Check that density is being validated\n",
    "try:\n",
    "    test_handler.query(**{\n",
    "        'fixed acidity': 7.0,\n",
    "        'volatile acidity': 0.30,\n",
    "        'citric acid': 0.14,\n",
    "        'residual sugar': 1.2,\n",
    "        'chlorides': 0.02,\n",
    "        'free sulfur dioxide': 10.0,\n",
    "        'total sulfur dioxide': 120.0,\n",
    "        'density': 1.2,\n",
    "        'pH': 3.2,\n",
    "        'sulphates': 0.3,\n",
    "        'alcohol': 11.0\n",
    "    })\n",
    "    raise Exception('Exception has not been raised for density = 1.2')\n",
    "except train.InvalidModelInputException:\n",
    "    print('Exception has been raised for density = 1.2')"
   ]
  }
 ],
 "metadata": {
  "kernelspec": {
   "display_name": "Python 3 (ipykernel)",
   "language": "python",
   "name": "python3"
  },
  "language_info": {
   "codemirror_mode": {
    "name": "ipython",
    "version": 3
   },
   "file_extension": ".py",
   "mimetype": "text/x-python",
   "name": "python",
   "nbconvert_exporter": "python",
   "pygments_lexer": "ipython3",
   "version": "3.8.10"
  }
 },
 "nbformat": 4,
 "nbformat_minor": 4
}
